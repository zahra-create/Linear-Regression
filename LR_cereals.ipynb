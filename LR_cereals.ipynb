{
 "cells": [
  {
   "cell_type": "markdown",
   "id": "56dee2ad-bf7b-497f-a6da-05df7f4a8b6e",
   "metadata": {},
   "source": [
    "Before we start, we import some useful libraries. "
   ]
  },
  {
   "cell_type": "code",
   "execution_count": 3,
   "id": "752e0b55-6d21-4926-b224-a886ec3a13c9",
   "metadata": {},
   "outputs": [],
   "source": [
    "import pandas as pd"
   ]
  },
  {
   "cell_type": "markdown",
   "id": "3cc08a80-5ce8-4f20-9111-0669968cf5d8",
   "metadata": {},
   "source": [
    "# I - DATA PREPROCESSING"
   ]
  },
  {
   "cell_type": "markdown",
   "id": "f08fcd4f-df66-414f-aa7e-08fc30e93e36",
   "metadata": {},
   "source": [
    "## 1 - Loading data"
   ]
  },
  {
   "cell_type": "code",
   "execution_count": 7,
   "id": "4d35f857-4f3c-4ab1-a332-ea4652cf7898",
   "metadata": {},
   "outputs": [
    {
     "data": {
      "text/html": [
       "<div>\n",
       "<style scoped>\n",
       "    .dataframe tbody tr th:only-of-type {\n",
       "        vertical-align: middle;\n",
       "    }\n",
       "\n",
       "    .dataframe tbody tr th {\n",
       "        vertical-align: top;\n",
       "    }\n",
       "\n",
       "    .dataframe thead th {\n",
       "        text-align: right;\n",
       "    }\n",
       "</style>\n",
       "<table border=\"1\" class=\"dataframe\">\n",
       "  <thead>\n",
       "    <tr style=\"text-align: right;\">\n",
       "      <th></th>\n",
       "      <th>Name</th>\n",
       "      <th>Manuf</th>\n",
       "      <th>Type</th>\n",
       "      <th>Calories</th>\n",
       "      <th>Protein</th>\n",
       "      <th>Fat</th>\n",
       "      <th>Sodium</th>\n",
       "      <th>Fiber</th>\n",
       "      <th>Carbo</th>\n",
       "      <th>Sugars</th>\n",
       "      <th>...</th>\n",
       "      <th>Weight</th>\n",
       "      <th>Cups</th>\n",
       "      <th>Rating</th>\n",
       "      <th>Cold</th>\n",
       "      <th>Nabisco</th>\n",
       "      <th>Quaker</th>\n",
       "      <th>Kelloggs</th>\n",
       "      <th>GeneralMills</th>\n",
       "      <th>Ralston</th>\n",
       "      <th>AHFP</th>\n",
       "    </tr>\n",
       "  </thead>\n",
       "  <tbody>\n",
       "    <tr>\n",
       "      <th>0</th>\n",
       "      <td>100%_Bran</td>\n",
       "      <td>N</td>\n",
       "      <td>C</td>\n",
       "      <td>70</td>\n",
       "      <td>4</td>\n",
       "      <td>1</td>\n",
       "      <td>130</td>\n",
       "      <td>10.0</td>\n",
       "      <td>5.0</td>\n",
       "      <td>6.0</td>\n",
       "      <td>...</td>\n",
       "      <td>1.0</td>\n",
       "      <td>0.33</td>\n",
       "      <td>68.402973</td>\n",
       "      <td>1</td>\n",
       "      <td>1</td>\n",
       "      <td>0</td>\n",
       "      <td>0</td>\n",
       "      <td>0</td>\n",
       "      <td>0</td>\n",
       "      <td>0</td>\n",
       "    </tr>\n",
       "    <tr>\n",
       "      <th>1</th>\n",
       "      <td>100%_Natural_Bran</td>\n",
       "      <td>Q</td>\n",
       "      <td>C</td>\n",
       "      <td>120</td>\n",
       "      <td>3</td>\n",
       "      <td>5</td>\n",
       "      <td>15</td>\n",
       "      <td>2.0</td>\n",
       "      <td>8.0</td>\n",
       "      <td>8.0</td>\n",
       "      <td>...</td>\n",
       "      <td>1.0</td>\n",
       "      <td>1.00</td>\n",
       "      <td>33.983679</td>\n",
       "      <td>1</td>\n",
       "      <td>0</td>\n",
       "      <td>1</td>\n",
       "      <td>0</td>\n",
       "      <td>0</td>\n",
       "      <td>0</td>\n",
       "      <td>0</td>\n",
       "    </tr>\n",
       "    <tr>\n",
       "      <th>2</th>\n",
       "      <td>All-Bran</td>\n",
       "      <td>K</td>\n",
       "      <td>C</td>\n",
       "      <td>70</td>\n",
       "      <td>4</td>\n",
       "      <td>1</td>\n",
       "      <td>260</td>\n",
       "      <td>9.0</td>\n",
       "      <td>7.0</td>\n",
       "      <td>5.0</td>\n",
       "      <td>...</td>\n",
       "      <td>1.0</td>\n",
       "      <td>0.33</td>\n",
       "      <td>59.425505</td>\n",
       "      <td>1</td>\n",
       "      <td>0</td>\n",
       "      <td>0</td>\n",
       "      <td>1</td>\n",
       "      <td>0</td>\n",
       "      <td>0</td>\n",
       "      <td>0</td>\n",
       "    </tr>\n",
       "    <tr>\n",
       "      <th>3</th>\n",
       "      <td>All-Bran_with_Extra_Fiber</td>\n",
       "      <td>K</td>\n",
       "      <td>C</td>\n",
       "      <td>50</td>\n",
       "      <td>4</td>\n",
       "      <td>0</td>\n",
       "      <td>140</td>\n",
       "      <td>14.0</td>\n",
       "      <td>8.0</td>\n",
       "      <td>0.0</td>\n",
       "      <td>...</td>\n",
       "      <td>1.0</td>\n",
       "      <td>0.50</td>\n",
       "      <td>93.704912</td>\n",
       "      <td>1</td>\n",
       "      <td>0</td>\n",
       "      <td>0</td>\n",
       "      <td>1</td>\n",
       "      <td>0</td>\n",
       "      <td>0</td>\n",
       "      <td>0</td>\n",
       "    </tr>\n",
       "    <tr>\n",
       "      <th>4</th>\n",
       "      <td>Almond_Delight</td>\n",
       "      <td>R</td>\n",
       "      <td>C</td>\n",
       "      <td>110</td>\n",
       "      <td>2</td>\n",
       "      <td>2</td>\n",
       "      <td>200</td>\n",
       "      <td>1.0</td>\n",
       "      <td>14.0</td>\n",
       "      <td>8.0</td>\n",
       "      <td>...</td>\n",
       "      <td>1.0</td>\n",
       "      <td>0.75</td>\n",
       "      <td>34.384843</td>\n",
       "      <td>1</td>\n",
       "      <td>0</td>\n",
       "      <td>0</td>\n",
       "      <td>0</td>\n",
       "      <td>0</td>\n",
       "      <td>1</td>\n",
       "      <td>0</td>\n",
       "    </tr>\n",
       "  </tbody>\n",
       "</table>\n",
       "<p>5 rows × 23 columns</p>\n",
       "</div>"
      ],
      "text/plain": [
       "                         Name Manuf Type  Calories  Protein  Fat  Sodium  \\\n",
       "0                  100%_Bran     N    C         70        4    1     130   \n",
       "1          100%_Natural_Bran     Q    C        120        3    5      15   \n",
       "2                   All-Bran     K    C         70        4    1     260   \n",
       "3  All-Bran_with_Extra_Fiber     K    C         50        4    0     140   \n",
       "4             Almond_Delight     R    C        110        2    2     200   \n",
       "\n",
       "   Fiber  Carbo  Sugars  ...  Weight  Cups     Rating  Cold  Nabisco  Quaker  \\\n",
       "0   10.0    5.0     6.0  ...     1.0  0.33  68.402973     1        1       0   \n",
       "1    2.0    8.0     8.0  ...     1.0  1.00  33.983679     1        0       1   \n",
       "2    9.0    7.0     5.0  ...     1.0  0.33  59.425505     1        0       0   \n",
       "3   14.0    8.0     0.0  ...     1.0  0.50  93.704912     1        0       0   \n",
       "4    1.0   14.0     8.0  ...     1.0  0.75  34.384843     1        0       0   \n",
       "\n",
       "   Kelloggs  GeneralMills  Ralston  AHFP  \n",
       "0         0             0        0     0  \n",
       "1         0             0        0     0  \n",
       "2         1             0        0     0  \n",
       "3         1             0        0     0  \n",
       "4         0             0        1     0  \n",
       "\n",
       "[5 rows x 23 columns]"
      ]
     },
     "execution_count": 7,
     "metadata": {},
     "output_type": "execute_result"
    }
   ],
   "source": [
    "cereals = pd.read_csv('cereals.csv')\n",
    "cereals.head()"
   ]
  },
  {
   "cell_type": "code",
   "execution_count": 14,
   "id": "af283645-8725-4cbb-b020-7b5a7d4c4b12",
   "metadata": {},
   "outputs": [
    {
     "name": "stdout",
     "output_type": "stream",
     "text": [
      "['Name', 'Manuf', 'Type', 'Calories', 'Protein', 'Fat', 'Sodium', 'Fiber', 'Carbo', 'Sugars', 'Potass', 'Vitamins', 'Shelf', 'Weight', 'Cups', 'Rating', 'Cold', 'Nabisco', 'Quaker', 'Kelloggs', 'GeneralMills', 'Ralston', 'AHFP']\n"
     ]
    }
   ],
   "source": [
    "var = cereals.columns.tolist()\n",
    "print(var)"
   ]
  },
  {
   "cell_type": "code",
   "execution_count": 17,
   "id": "cddcb43a-ecc7-47e4-93c5-ca64fed8d48d",
   "metadata": {},
   "outputs": [
    {
     "name": "stdout",
     "output_type": "stream",
     "text": [
      "<class 'pandas.core.frame.DataFrame'>\n",
      "RangeIndex: 77 entries, 0 to 76\n",
      "Data columns (total 23 columns):\n",
      " #   Column        Non-Null Count  Dtype  \n",
      "---  ------        --------------  -----  \n",
      " 0   Name          77 non-null     object \n",
      " 1   Manuf         77 non-null     object \n",
      " 2   Type          77 non-null     object \n",
      " 3   Calories      77 non-null     int64  \n",
      " 4   Protein       77 non-null     int64  \n",
      " 5   Fat           77 non-null     int64  \n",
      " 6   Sodium        77 non-null     int64  \n",
      " 7   Fiber         77 non-null     float64\n",
      " 8   Carbo         76 non-null     float64\n",
      " 9   Sugars        76 non-null     float64\n",
      " 10  Potass        75 non-null     float64\n",
      " 11  Vitamins      77 non-null     int64  \n",
      " 12  Shelf         77 non-null     int64  \n",
      " 13  Weight        77 non-null     float64\n",
      " 14  Cups          77 non-null     float64\n",
      " 15  Rating        77 non-null     float64\n",
      " 16  Cold          77 non-null     int64  \n",
      " 17  Nabisco       77 non-null     int64  \n",
      " 18  Quaker        77 non-null     int64  \n",
      " 19  Kelloggs      77 non-null     int64  \n",
      " 20  GeneralMills  77 non-null     int64  \n",
      " 21  Ralston       77 non-null     int64  \n",
      " 22  AHFP          77 non-null     int64  \n",
      "dtypes: float64(7), int64(13), object(3)\n",
      "memory usage: 14.0+ KB\n",
      "None\n"
     ]
    }
   ],
   "source": [
    "print(cereals.info())"
   ]
  },
  {
   "cell_type": "markdown",
   "id": "e437744b-b0e4-47b0-b5de-33a688e4696b",
   "metadata": {},
   "source": [
    "It's clear that cereals data set contains some missing values (Sugars, Potass, Carbo have less than 77 non-null values). In the next section I will try to verify this."
   ]
  },
  {
   "cell_type": "markdown",
   "id": "dcc351f6-e8ef-4f87-9a37-3b5f53a57ac7",
   "metadata": {},
   "source": [
    "## 2 - Creating Dependant and Independant variable vectors "
   ]
  },
  {
   "cell_type": "markdown",
   "id": "3345920b-c326-458e-bd8c-45a0043e4802",
   "metadata": {},
   "source": [
    "Note that most of data cleaning & transformation concerne the Independant variable, so it's crucial to split our dataset into Dependant & Independant variable."
   ]
  },
  {
   "cell_type": "code",
   "execution_count": 47,
   "id": "5443ca81-99fd-4769-af41-32285b97e90d",
   "metadata": {},
   "outputs": [],
   "source": [
    "X = cereals.iloc[:,:-1] # the Independant variable\n",
    "Y = cereals.iloc[:,-1]  # the Dependant variable"
   ]
  },
  {
   "cell_type": "markdown",
   "id": "1f07444a-ad12-4fce-87c3-1ad584f855dc",
   "metadata": {},
   "source": [
    "## 3 - Dealing with missing values"
   ]
  },
  {
   "cell_type": "markdown",
   "id": "85bb2bc4-2e00-4d4c-bffb-6a5cdbd3a1b7",
   "metadata": {},
   "source": [
    "Here, I will write a simple code that checks the existence of missing values and correct them. \n",
    "* For categorical variables, missing values should be replaced with the mode. For this, I am going to define a function that returns the mode of a categorical feature."
   ]
  },
  {
   "cell_type": "code",
   "execution_count": 30,
   "id": "c71316f4-7fa4-4cfd-993e-e18cc9ab4a7b",
   "metadata": {},
   "outputs": [
    {
     "name": "stdout",
     "output_type": "stream",
     "text": [
      "a\n"
     ]
    }
   ],
   "source": [
    "def mode(feature) :\n",
    "    seen = dict() # seen['a_features's_value'] = the number of occurences of this value\n",
    "    n = len(feature) \n",
    "    for i in range(n) : \n",
    "        count = 1\n",
    "        if feature[i]  in seen.keys() :  # so i used a dictionary to be able to do this test and store the number of occurences at once \n",
    "            continue\n",
    "        else :\n",
    "            for j in range(i+1,n) :\n",
    "                if feature[j] == feature[i] : \n",
    "                    count+=1\n",
    "            seen[feature[i]] = count # the n\n",
    "    indice_mode = list(seen.values()).index(max(seen.values()))\n",
    "    return list(seen.keys())[indice_mode]\n",
    "    \n",
    "print(mode(['a','b','c','a','e','f','a'])) "
   ]
  },
  {
   "cell_type": "markdown",
   "id": "2b636f7b-a7cb-4d12-835e-a688642458e9",
   "metadata": {},
   "source": [
    "* For numeric features, i will simply replace the missing values with the mean of the feature. I am going to define a function that returns the mean of a numeric feature."
   ]
  },
  {
   "cell_type": "code",
   "execution_count": 29,
   "id": "c6d28433-00da-4bcf-8420-336b3b18804c",
   "metadata": {},
   "outputs": [
    {
     "name": "stdout",
     "output_type": "stream",
     "text": [
      "6.923076923076923\n"
     ]
    }
   ],
   "source": [
    "def mean(feature) : \n",
    "    return sum(feature) / len(feature)\n",
    "print(mean([1,2,4,2,45,2,9,0,4,2,7,10,2]))    "
   ]
  },
  {
   "cell_type": "markdown",
   "id": "d8a15e59-6b60-4c7c-b754-9ad49ba5c60e",
   "metadata": {},
   "source": [
    "At this stage, we are able to write the main code of this section that is going to deal with the missing values :)"
   ]
  },
  {
   "cell_type": "code",
   "execution_count": 39,
   "id": "bd30945d-3334-4c9c-a865-4ac83154fa21",
   "metadata": {},
   "outputs": [
    {
     "name": "stdout",
     "output_type": "stream",
     "text": [
      "True\n"
     ]
    }
   ],
   "source": [
    "print(cereals.Name.dtype == 'object')"
   ]
  },
  {
   "cell_type": "code",
   "execution_count": 55,
   "id": "bf4dd6d3-46db-43a8-bf84-a4e601fce753",
   "metadata": {},
   "outputs": [],
   "source": [
    "X2 = pd.DataFrame(X, copy=True)"
   ]
  },
  {
   "cell_type": "code",
   "execution_count": 50,
   "id": "8940a6b6-2595-4821-93c5-8bb8cc5359b8",
   "metadata": {},
   "outputs": [],
   "source": [
    "features_name = X.columns\n",
    "\n",
    "for f_name in features_name :\n",
    "    f_values = cereals[f_name]\n",
    "    l = 77      # since we have 77 rows :)\n",
    "    for i in range(l):\n",
    "        if f_values[i] == 'NaN' : \n",
    "            if cereals.f_name.dtype == 'object' : f_values[i] = mode(f_values)\n",
    "            else : f_values[i] = mean(f_values)\n",
    "        else : continue"
   ]
  },
  {
   "cell_type": "code",
   "execution_count": 51,
   "id": "6e6a8597-0634-493a-938c-8b32e30e3ac2",
   "metadata": {},
   "outputs": [
    {
     "name": "stdout",
     "output_type": "stream",
     "text": [
      "<class 'pandas.core.frame.DataFrame'>\n",
      "RangeIndex: 77 entries, 0 to 76\n",
      "Data columns (total 22 columns):\n",
      " #   Column        Non-Null Count  Dtype  \n",
      "---  ------        --------------  -----  \n",
      " 0   Name          77 non-null     object \n",
      " 1   Manuf         77 non-null     object \n",
      " 2   Type          77 non-null     object \n",
      " 3   Calories      77 non-null     int64  \n",
      " 4   Protein       77 non-null     int64  \n",
      " 5   Fat           77 non-null     int64  \n",
      " 6   Sodium        77 non-null     int64  \n",
      " 7   Fiber         77 non-null     float64\n",
      " 8   Carbo         76 non-null     float64\n",
      " 9   Sugars        76 non-null     float64\n",
      " 10  Potass        75 non-null     float64\n",
      " 11  Vitamins      77 non-null     int64  \n",
      " 12  Shelf         77 non-null     int64  \n",
      " 13  Weight        77 non-null     float64\n",
      " 14  Cups          77 non-null     float64\n",
      " 15  Rating        77 non-null     float64\n",
      " 16  Cold          77 non-null     int64  \n",
      " 17  Nabisco       77 non-null     int64  \n",
      " 18  Quaker        77 non-null     int64  \n",
      " 19  Kelloggs      77 non-null     int64  \n",
      " 20  GeneralMills  77 non-null     int64  \n",
      " 21  Ralston       77 non-null     int64  \n",
      "dtypes: float64(7), int64(12), object(3)\n",
      "memory usage: 13.4+ KB\n"
     ]
    }
   ],
   "source": [
    "X.info()"
   ]
  },
  {
   "cell_type": "code",
   "execution_count": 58,
   "id": "6854e19a-c45f-4510-9c45-67c290e446cc",
   "metadata": {},
   "outputs": [],
   "source": [
    "def new_column(column) :\n",
    "    if 'NaN' not in column : return column\n",
    "    else : \n",
    "        for i in range(len(column)) :\n",
    "            if column[i] == 'NaN' :\n",
    "                column[i] == mean(column)\n",
    "    return column\n",
    "    "
   ]
  },
  {
   "cell_type": "code",
   "execution_count": 61,
   "id": "2775d27a-1e7e-4717-abbe-cc6acca96e20",
   "metadata": {},
   "outputs": [
    {
     "name": "stdout",
     "output_type": "stream",
     "text": [
      "<class 'pandas.core.frame.DataFrame'>\n",
      "RangeIndex: 77 entries, 0 to 76\n",
      "Data columns (total 22 columns):\n",
      " #   Column        Non-Null Count  Dtype  \n",
      "---  ------        --------------  -----  \n",
      " 0   Name          77 non-null     object \n",
      " 1   Manuf         77 non-null     object \n",
      " 2   Type          77 non-null     object \n",
      " 3   Calories      77 non-null     int64  \n",
      " 4   Protein       77 non-null     int64  \n",
      " 5   Fat           77 non-null     int64  \n",
      " 6   Sodium        77 non-null     int64  \n",
      " 7   Fiber         77 non-null     float64\n",
      " 8   Carbo         76 non-null     float64\n",
      " 9   Sugars        76 non-null     float64\n",
      " 10  Potass        75 non-null     float64\n",
      " 11  Vitamins      77 non-null     int64  \n",
      " 12  Shelf         77 non-null     int64  \n",
      " 13  Weight        77 non-null     float64\n",
      " 14  Cups          77 non-null     float64\n",
      " 15  Rating        77 non-null     float64\n",
      " 16  Cold          77 non-null     int64  \n",
      " 17  Nabisco       77 non-null     int64  \n",
      " 18  Quaker        77 non-null     int64  \n",
      " 19  Kelloggs      77 non-null     int64  \n",
      " 20  GeneralMills  77 non-null     int64  \n",
      " 21  Ralston       77 non-null     int64  \n",
      "dtypes: float64(7), int64(12), object(3)\n",
      "memory usage: 13.4+ KB\n"
     ]
    }
   ],
   "source": [
    "T = cereals['Carbo']\n",
    "X2['Carbo'] = new_column(T)\n",
    "X2.info()"
   ]
  },
  {
   "cell_type": "code",
   "execution_count": null,
   "id": "2cfaae19-a2aa-4181-b827-4353b7073a89",
   "metadata": {},
   "outputs": [],
   "source": []
  }
 ],
 "metadata": {
  "kernelspec": {
   "display_name": "Python 3 (ipykernel)",
   "language": "python",
   "name": "python3"
  },
  "language_info": {
   "codemirror_mode": {
    "name": "ipython",
    "version": 3
   },
   "file_extension": ".py",
   "mimetype": "text/x-python",
   "name": "python",
   "nbconvert_exporter": "python",
   "pygments_lexer": "ipython3",
   "version": "3.12.3"
  }
 },
 "nbformat": 4,
 "nbformat_minor": 5
}
